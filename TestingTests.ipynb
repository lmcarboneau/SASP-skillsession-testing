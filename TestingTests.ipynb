{
 "cells": [
  {
   "cell_type": "markdown",
   "metadata": {},
   "source": [
    "# Example of using Pytest"
   ]
  },
  {
   "cell_type": "code",
   "execution_count": null,
   "metadata": {},
   "outputs": [],
   "source": [
    "import numpy as np\n",
    "\n",
    "import pytest\n",
    "import ipytest\n",
    "\n",
    "# tell ipytest which file to test\n",
    "__file__ = 'TestingTests.ipynb'"
   ]
  },
  {
   "cell_type": "markdown",
   "metadata": {},
   "source": [
    "## Let's start with something really simple:"
   ]
  },
  {
   "cell_type": "code",
   "execution_count": null,
   "metadata": {},
   "outputs": [],
   "source": [
    "def trivial_function(x):\n",
    "    return x / 2"
   ]
  },
  {
   "cell_type": "markdown",
   "metadata": {},
   "source": [
    "Since this function doesn't perform anything complicated, these tests are also fairly trivial. We can at least see what happens when our expectations don't match our code:"
   ]
  },
  {
   "cell_type": "code",
   "execution_count": null,
   "metadata": {},
   "outputs": [],
   "source": [
    "# including this line clears the kernel of any previous tests \n",
    "ipytest.clean_tests()\n",
    "\n",
    "def test_trivial_function():\n",
    "    \"\"\"Simple tests of a simple function\"\"\"\n",
    "    assert trivial_function(0) == 0\n",
    "    assert trivial_function(2) == 1\n",
    "    assert trivial_function(-2) == -1\n",
    "    assert trivial_function('hello') == 'hello' \n",
    "    \n",
    "    \n",
    "ipytest.run()"
   ]
  },
  {
   "cell_type": "markdown",
   "metadata": {},
   "source": [
    "<br>\n",
    "It's easy to write tests that also check for specific errors - let's update our last assertion:"
   ]
  },
  {
   "cell_type": "code",
   "execution_count": null,
   "metadata": {},
   "outputs": [],
   "source": [
    "ipytest.clean_tests()\n",
    "\n",
    "def test_trivial_function():\n",
    "    \"\"\"Simple tests of a simple function\"\"\"\n",
    "    assert trivial_function(0) == 0\n",
    "    assert trivial_function(2) == 1\n",
    "    assert trivial_function(-2) == -1\n",
    "    with pytest.raises(TypeError):\n",
    "        trivial_function('hello') == 'hello' \n",
    "    \n",
    "    \n",
    "ipytest.run()"
   ]
  },
  {
   "cell_type": "markdown",
   "metadata": {},
   "source": [
    "## A slightly more complex example\n",
    "\n",
    "The last function was really simple - instead let's take a look at more complex example:\n"
   ]
  },
  {
   "cell_type": "code",
   "execution_count": null,
   "metadata": {},
   "outputs": [],
   "source": [
    "def span(x):\n",
    "        \"\"\" Compute span of array\n",
    "        \n",
    "        Parameters\n",
    "        ----------\n",
    "        x : ndarray\n",
    "            List of floats/integers\n",
    "        \n",
    "        Returns\n",
    "        -------\n",
    "        span : float\n",
    "            Range spanned by the minimum and maximum values in x\n",
    "            \n",
    "        \"\"\"\n",
    "        \n",
    "        return max(x)-min(x)"
   ]
  },
  {
   "cell_type": "markdown",
   "metadata": {},
   "source": [
    "I 'borrowed' this function from a certain package. Luckily it has a docstring, so we can pretty easily come up with some simple tests to make sure it's working properly:"
   ]
  },
  {
   "cell_type": "code",
   "execution_count": null,
   "metadata": {},
   "outputs": [],
   "source": [
    "ipytest.clean_tests()\n",
    "\n",
    "def test_invalid_array():\n",
    "    \"\"\"Invalid arrays should raise a TypeError.\"\"\"\n",
    "    test_array = np.array([1, 'two', 3, 4.0, 5])\n",
    "    with pytest.raises(TypeError):\n",
    "        span(test_array)\n",
    "\n",
    "def test_invalid_string_array():\n",
    "    \"\"\"Invalid arrays of types other than `int` or `float` should raise a TypeError\"\"\"\n",
    "    test_array = np.array(['a', 'b', 'c', 'd', 'e'])\n",
    "    with pytest.raises(TypeError):\n",
    "        span(test_array)\n",
    "\n",
    "def test_empty_array():\n",
    "    \"\"\"An empty array should raise a ValueError\"\"\"\n",
    "    test_array = np.array([])\n",
    "    with pytest.raises(ValueError):\n",
    "        span(test_array)\n",
    "    \n",
    "def test_array_with_nan():\n",
    "    \"\"\"An array with NaN's should behave like a valid array\"\"\"\n",
    "    test_array = np.array([1, 2, 3, np.nan])\n",
    "    assert span(test_array) == 2\n",
    "    \n",
    "def test_array_with_none():\n",
    "    \"\"\"An array with a 'None' value should raise a ValueError\"\"\"\n",
    "    test_array = np.array([1, 2, 3, None])\n",
    "    with pytest.raises(TypeError):\n",
    "        span(test_array)\n",
    "\n",
    "def test_valid_array():\n",
    "    \"\"\"A valid array should be of type `int` or `float` and return type `float`\"\"\"\n",
    "    test_array_a = np.array([1, 2, 3, 4, 5])\n",
    "    test_array_b = np.array([1.0, 2.0, 3.0, 4.0, 5.0])\n",
    "    test_a = span(test_array_a)\n",
    "    test_b = span(test_array_b)\n",
    "    assert test_a == 4.0\n",
    "    assert test_b == 4.0\n",
    "    \n",
    "ipytest.run()"
   ]
  }
 ],
 "metadata": {
  "kernelspec": {
   "display_name": "Python 3",
   "language": "python",
   "name": "python3"
  },
  "language_info": {
   "codemirror_mode": {
    "name": "ipython",
    "version": 3
   },
   "file_extension": ".py",
   "mimetype": "text/x-python",
   "name": "python",
   "nbconvert_exporter": "python",
   "pygments_lexer": "ipython3",
   "version": "3.7.4"
  }
 },
 "nbformat": 4,
 "nbformat_minor": 2
}
